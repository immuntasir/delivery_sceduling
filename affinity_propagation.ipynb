{
 "cells": [
  {
   "cell_type": "code",
   "execution_count": 1,
   "metadata": {},
   "outputs": [],
   "source": [
    "# To ensure that you have all the libraries installed, make sure this cell runs properly.\n",
    "from xml.dom import minidom\n",
    "import pandas as pd\n",
    "import matplotlib\n",
    "import numpy as np\n",
    "from geopy.distance import geodesic\n",
    "import googlemaps, gmplot, webbrowser, os, json\n",
    "from googlemaps.convert import as_list\n",
    "from sklearn.cluster import AffinityPropagation"
   ]
  },
  {
   "cell_type": "markdown",
   "metadata": {},
   "source": [
    "<h3> Problem Definition </h3>\n",
    "\n",
    "<p> This project was done as part of a hackathon organized by ShopUp. </p>\n",
    "\n",
    "<p>ShopUp helps small businesses (merchants) by collecting their products and distributing them to their respective customers. This process goes through several steps.</p>\n",
    "\n",
    "<p>Firstly, the merchants upload their product information on the system. Then, ShopUp sends delivery persons to the merchants to collect their products. The products are brought to one of the four hubs, which are situated at Mirpur, Kalabagan, Malibagh and Mohakhali respectively. Then, at around midnight, the products are distributed to the different hubs according to their respective delivery orders. Finally, in the morning, the products are dispatched for the customers from the hubs.</p>\n",
    "\n",
    "<p>In total, ShopUp has to deal with 500-600 product deliveries on a single day. Our goal is to automate the sorting and scheduling process, which could significantly decrease the delivery cost and time.<p>\n",
    "\n",
    "<h3> The dataset </h3>\n",
    "\n",
    "<p>We collect the dataset from <i><strong>openstreetmap.org</strong></i>. The dataset consists of different random coordinates in Dhaka. We use <strong>281</strong> data points in total as delivery points.</p>"
   ]
  },
  {
   "cell_type": "code",
   "execution_count": 2,
   "metadata": {},
   "outputs": [],
   "source": [
    "files = ['Bashundara_RA.osm', 'Dhanmondi.osm', 'Nakhalpara.osm', 'Mirpur.osm', 'Rampura.osm', 'Mogbazar.osm', 'Cantonment.osm', 'DU_Nilkhet.osm', 'Chankharpool.osm',  'Mohammadpur.osm', 'Shahbag.osm', 'Kolyanpur_1.osm', 'Kolyanpur_2.osm', 'Kamalapur.osm', 'Jatrabari.osm','Bashundhara_1.osm','Bashundhara_2.osm','Badda.osm']\n",
    "dict_of_locations = {}\n",
    "list_of_locations = []\n",
    "dict_of_locations['latitude'] = []\n",
    "dict_of_locations['longitude'] = []\n",
    "dict_of_locations2 = {}\n",
    "list_of_locations2 = list()\n",
    "dict_of_locations2['lat'] = []\n",
    "dict_of_locations2['lng'] = []"
   ]
  },
  {
   "cell_type": "code",
   "execution_count": 4,
   "metadata": {},
   "outputs": [
    {
     "name": "stdout",
     "output_type": "stream",
     "text": [
      "Reading data from Bashundara_RA.osm\n",
      "Reading data from Dhanmondi.osm\n",
      "Reading data from Nakhalpara.osm\n",
      "Reading data from Mirpur.osm\n",
      "Reading data from Rampura.osm\n",
      "Reading data from Mogbazar.osm\n",
      "Reading data from Cantonment.osm\n",
      "Reading data from DU_Nilkhet.osm\n",
      "Reading data from Chankharpool.osm\n",
      "Reading data from Mohammadpur.osm\n",
      "Reading data from Shahbag.osm\n",
      "Reading data from Kolyanpur_1.osm\n",
      "Reading data from Kolyanpur_2.osm\n",
      "Reading data from Kamalapur.osm\n",
      "Reading data from Jatrabari.osm\n",
      "Reading data from Bashundhara_1.osm\n",
      "Reading data from Bashundhara_2.osm\n",
      "Reading data from Badda.osm\n",
      "Total number of data points: 309\n"
     ]
    }
   ],
   "source": [
    "for filename in files:\n",
    "    np.random.seed(1)\n",
    "    xmldoc = minidom.parse('./data/' + filename)\n",
    "    location_xml = xmldoc.getElementsByTagName('node')\n",
    "    print('Reading data from', filename)\n",
    "        \n",
    "    for location in location_xml:\n",
    "        if np.random.rand() < .0004:\n",
    "            dict_of_locations['latitude'].append(float(location.attributes['lat'].value))\n",
    "            dict_of_locations['longitude'].append(float(location.attributes['lon'].value))\n",
    "            list_of_locations2.append((float(location.attributes['lat'].value),float(location.attributes['lon'].value)))\n",
    "            list_of_locations.append([float(location.attributes['lat'].value), float(location.attributes['lon'].value)])\n",
    "            \n",
    "print('Total number of data points:', len(list_of_locations))"
   ]
  },
  {
   "cell_type": "code",
   "execution_count": 5,
   "metadata": {},
   "outputs": [],
   "source": [
    "dataframe = pd.DataFrame(data = dict_of_locations)"
   ]
  },
  {
   "cell_type": "code",
   "execution_count": 6,
   "metadata": {},
   "outputs": [
    {
     "data": {
      "text/html": [
       "<div>\n",
       "<style scoped>\n",
       "    .dataframe tbody tr th:only-of-type {\n",
       "        vertical-align: middle;\n",
       "    }\n",
       "\n",
       "    .dataframe tbody tr th {\n",
       "        vertical-align: top;\n",
       "    }\n",
       "\n",
       "    .dataframe thead th {\n",
       "        text-align: right;\n",
       "    }\n",
       "</style>\n",
       "<table border=\"1\" class=\"dataframe\">\n",
       "  <thead>\n",
       "    <tr style=\"text-align: right;\">\n",
       "      <th></th>\n",
       "      <th>latitude</th>\n",
       "      <th>longitude</th>\n",
       "    </tr>\n",
       "  </thead>\n",
       "  <tbody>\n",
       "    <tr>\n",
       "      <th>0</th>\n",
       "      <td>23.816826</td>\n",
       "      <td>90.406408</td>\n",
       "    </tr>\n",
       "    <tr>\n",
       "      <th>1</th>\n",
       "      <td>23.824691</td>\n",
       "      <td>90.415939</td>\n",
       "    </tr>\n",
       "    <tr>\n",
       "      <th>2</th>\n",
       "      <td>23.825535</td>\n",
       "      <td>90.416480</td>\n",
       "    </tr>\n",
       "    <tr>\n",
       "      <th>3</th>\n",
       "      <td>23.836510</td>\n",
       "      <td>90.424908</td>\n",
       "    </tr>\n",
       "    <tr>\n",
       "      <th>4</th>\n",
       "      <td>23.836900</td>\n",
       "      <td>90.424291</td>\n",
       "    </tr>\n",
       "  </tbody>\n",
       "</table>\n",
       "</div>"
      ],
      "text/plain": [
       "    latitude  longitude\n",
       "0  23.816826  90.406408\n",
       "1  23.824691  90.415939\n",
       "2  23.825535  90.416480\n",
       "3  23.836510  90.424908\n",
       "4  23.836900  90.424291"
      ]
     },
     "execution_count": 6,
     "metadata": {},
     "output_type": "execute_result"
    }
   ],
   "source": [
    "dataframe.head()"
   ]
  },
  {
   "cell_type": "code",
   "execution_count": 8,
   "metadata": {},
   "outputs": [
    {
     "data": {
      "text/plain": [
       "<matplotlib.axes._subplots.AxesSubplot at 0x7f7e6087bba8>"
      ]
     },
     "execution_count": 8,
     "metadata": {},
     "output_type": "execute_result"
    },
    {
     "data": {
      "image/png": "[encoded data removed]",
      "text/plain": [
       "<Figure size 432x288 with 1 Axes>"
      ]
     },
     "metadata": {
      "needs_background": "light"
     },
     "output_type": "display_data"
    }
   ],
   "source": [
    "dataframe.plot(kind=\"scatter\", x=\"longitude\", y=\"latitude\", alpha=0.4)\n"
   ]
  },
  {
   "cell_type": "code",
   "execution_count": 9,
   "metadata": {},
   "outputs": [
    {
     "data": {
      "text/plain": [
       "numpy.float64"
      ]
     },
     "execution_count": 9,
     "metadata": {},
     "output_type": "execute_result"
    }
   ],
   "source": [
    "type(dataframe.iloc[0]['latitude'])"
   ]
  },
  {
   "cell_type": "code",
   "execution_count": 10,
   "metadata": {},
   "outputs": [
    {
     "data": {
      "text/plain": [
       "0.13832473282721824"
      ]
     },
     "execution_count": 10,
     "metadata": {},
     "output_type": "execute_result"
    }
   ],
   "source": [
    "np.random.rand()"
   ]
  },
  {
   "cell_type": "code",
   "execution_count": 11,
   "metadata": {},
   "outputs": [
    {
     "name": "stdout",
     "output_type": "stream",
     "text": [
      "         latitude   longitude\n",
      "count  309.000000  309.000000\n",
      "mean    23.766867   90.397415\n",
      "std      0.034503    0.027216\n",
      "min     23.702117   90.336471\n",
      "25%     23.741067   90.370266\n",
      "50%     23.766725   90.402711\n",
      "75%     23.794235   90.422023\n",
      "max     23.836900   90.443113\n"
     ]
    }
   ],
   "source": [
    "print(dataframe.describe())"
   ]
  },
  {
   "cell_type": "code",
   "execution_count": 14,
   "metadata": {},
   "outputs": [],
   "source": [
    "point1 = (23.751637, 90.380274)\n",
    "point2 = (23.810144, 90.368230)\n",
    "point3 = (23.778170, 90.398051)\n",
    "point0 = (23.745740, 90.413446)\n",
    "\n",
    "# Uncomment the folling line and add your key here\n",
    "#gmaps = googlemaps.Client(key='') \n",
    "#\n",
    "len(dict_of_locations['latitude'])\n",
    "\n",
    "\n",
    "colors= ['red','blue','green', 'black','purple','orange','cyan','magenta','yellow','grey','pink','violet']\n",
    "\n",
    "# Uncomment the folling line and add your key here\n",
    "#gmaps = googlemaps.Client(key='') \n",
    "#\n",
    "\n",
    "geocode_result = gmaps.geocode('Dhaka')\n",
    "\n",
    "geom = geocode_result[0]['geometry']\n",
    "loc = geom['location']\n",
    "lat = loc['lat']\n",
    "lng = loc['lng']\n",
    "\n",
    "gmap = gmplot.GoogleMapPlotter(lat,lng,12.8)\n",
    "\n",
    "gmap.scatter(lngs=list(np.array(dict_of_locations['longitude'])), lats=list(np.array(dict_of_locations['latitude'])),c = 'blue', alpha=0.4)\n",
    "gmap.marker(point0[0],point0[1],c = 'red',title = \"HUB 0\")\n",
    "gmap.marker(point1[0],point1[1],c = 'red',title = \"HUB 1\")\n",
    "gmap.marker(point2[0],point2[1],c = 'red',title = \"HUB 2\")\n",
    "gmap.marker(point3[0],point3[1],c = 'red', title = \"HUB 3\")\n",
    "gmap.draw(\"./maps/mapOriginal.html\")"
   ]
  },
  {
   "cell_type": "code",
   "execution_count": 15,
   "metadata": {},
   "outputs": [
    {
     "name": "stdout",
     "output_type": "stream",
     "text": [
      "Enter What You Want To Optimize:\n",
      "1 for time \n",
      "2 for distance \n",
      "2\n"
     ]
    }
   ],
   "source": [
    "choice = int(input(\"Enter What You Want To Optimize:\\n1 for time \\n2 for distance \\n\"))"
   ]
  },
  {
   "cell_type": "code",
   "execution_count": 16,
   "metadata": {},
   "outputs": [],
   "source": [
    "def dist(pointa, pointb,choice):\n",
    "    a = (pointa[0], pointa[1])\n",
    "    b = (pointb[0], pointb[1])\n",
    "    #print(gmaps.distance_matrix(a,b))\n",
    "    ch = \"\"\n",
    "    if(choice == 1):\n",
    "        ch = \"duration\"\n",
    "    else:\n",
    "        ch = \"distance\"\n",
    "    dis = gmaps.distance_matrix(a,b)['rows'][0]['elements'][0][ch]['value']\n",
    "    #print(dis)    \n",
    "    return dis"
   ]
  },
  {
   "cell_type": "code",
   "execution_count": 19,
   "metadata": {
    "scrolled": true
   },
   "outputs": [
    {
     "name": "stdout",
     "output_type": "stream",
     "text": [
      "0.3236245954692557 % done\n",
      "0.6472491909385114 % done\n",
      "0.9708737864077669 % done\n",
      "1.2944983818770228 % done\n",
      "1.6181229773462782 % done\n",
      "1.9417475728155338 % done\n",
      "2.26537216828479 % done\n",
      "2.5889967637540456 % done\n",
      "2.912621359223301 % done\n",
      "3.2362459546925564 % done\n",
      "3.559870550161812 % done\n",
      "3.8834951456310676 % done\n",
      "4.207119741100324 % done\n",
      "4.53074433656958 % done\n",
      "4.854368932038835 % done\n",
      "5.177993527508091 % done\n",
      "5.501618122977346 % done\n",
      "5.825242718446602 % done\n",
      "6.148867313915858 % done\n",
      "6.796116504854369 % done\n",
      "7.119741100323624 % done\n",
      "7.443365695792881 % done\n",
      "7.766990291262135 % done\n",
      "8.090614886731391 % done\n",
      "8.414239482200648 % done\n",
      "8.737864077669903 % done\n",
      "9.06148867313916 % done\n",
      "9.385113268608414 % done\n",
      "9.70873786407767 % done\n",
      "10.032362459546926 % done\n",
      "10.355987055016183 % done\n",
      "10.679611650485436 % done\n",
      "11.003236245954692 % done\n",
      "11.326860841423949 % done\n",
      "11.650485436893204 % done\n",
      "11.974110032362459 % done\n",
      "12.297734627831716 % done\n",
      "12.62135922330097 % done\n",
      "13.268608414239482 % done\n",
      "13.592233009708737 % done\n",
      "13.915857605177994 % done\n",
      "14.239482200647249 % done\n",
      "14.563106796116504 % done\n",
      "14.886731391585762 % done\n",
      "15.210355987055015 % done\n",
      "15.53398058252427 % done\n",
      "15.857605177993527 % done\n",
      "16.181229773462782 % done\n",
      "16.50485436893204 % done\n",
      "16.828478964401295 % done\n",
      "17.15210355987055 % done\n",
      "17.475728155339805 % done\n",
      "17.79935275080906 % done\n",
      "18.12297734627832 % done\n",
      "18.446601941747574 % done\n",
      "18.77022653721683 % done\n",
      "19.093851132686083 % done\n",
      "19.741100323624593 % done\n",
      "20.06472491909385 % done\n",
      "20.388349514563107 % done\n",
      "20.711974110032365 % done\n",
      "21.035598705501616 % done\n",
      "21.35922330097087 % done\n",
      "21.68284789644013 % done\n",
      "22.006472491909385 % done\n",
      "22.330097087378643 % done\n",
      "22.653721682847898 % done\n",
      "22.97734627831715 % done\n",
      "23.300970873786408 % done\n",
      "23.624595469255663 % done\n",
      "23.948220064724918 % done\n",
      "24.271844660194176 % done\n",
      "24.59546925566343 % done\n",
      "24.919093851132686 % done\n",
      "25.24271844660194 % done\n",
      "25.5663430420712 % done\n",
      "26.21359223300971 % done\n",
      "26.537216828478964 % done\n",
      "26.860841423948216 % done\n",
      "27.184466019417474 % done\n",
      "27.508090614886733 % done\n",
      "27.831715210355988 % done\n",
      "28.155339805825243 % done\n",
      "28.478964401294498 % done\n",
      "28.802588996763756 % done\n",
      "29.126213592233007 % done\n",
      "29.449838187702266 % done\n",
      "29.773462783171524 % done\n",
      "30.097087378640776 % done\n",
      "30.42071197411003 % done\n",
      "30.74433656957929 % done\n",
      "31.06796116504854 % done\n",
      "31.3915857605178 % done\n",
      "31.715210355987054 % done\n",
      "32.038834951456316 % done\n",
      "32.68608414239482 % done\n",
      "33.00970873786408 % done\n",
      "33.33333333333333 % done\n",
      "33.65695792880259 % done\n",
      "33.980582524271846 % done\n",
      "34.3042071197411 % done\n",
      "34.627831715210355 % done\n",
      "34.95145631067961 % done\n",
      "35.275080906148865 % done\n",
      "35.59870550161812 % done\n",
      "35.92233009708738 % done\n",
      "36.24595469255664 % done\n",
      "36.56957928802589 % done\n",
      "36.89320388349515 % done\n",
      "37.2168284789644 % done\n",
      "37.54045307443366 % done\n",
      "37.86407766990291 % done\n",
      "38.18770226537217 % done\n",
      "38.51132686084142 % done\n",
      "39.15857605177994 % done\n",
      "39.482200647249186 % done\n",
      "39.80582524271845 % done\n",
      "40.1294498381877 % done\n",
      "40.45307443365696 % done\n",
      "40.77669902912621 % done\n",
      "41.10032362459547 % done\n",
      "41.42394822006473 % done\n",
      "41.74757281553398 % done\n",
      "42.07119741100323 % done\n",
      "42.394822006472495 % done\n",
      "42.71844660194174 % done\n",
      "43.042071197411005 % done\n",
      "43.36569579288026 % done\n",
      "43.689320388349515 % done\n",
      "44.01294498381877 % done\n",
      "44.336569579288025 % done\n",
      "44.66019417475729 % done\n",
      "44.983818770226534 % done\n",
      "45.63106796116505 % done\n",
      "45.9546925566343 % done\n",
      "46.27831715210356 % done\n",
      "46.601941747572816 % done\n",
      "46.92556634304207 % done\n",
      "47.249190938511326 % done\n",
      "47.57281553398058 % done\n",
      "47.896440129449836 % done\n",
      "48.22006472491909 % done\n",
      "48.54368932038835 % done\n",
      "48.86731391585761 % done\n",
      "49.19093851132686 % done\n",
      "49.51456310679612 % done\n",
      "49.83818770226537 % done\n",
      "50.161812297734635 % done\n",
      "50.48543689320388 % done\n",
      "50.80906148867314 % done\n",
      "51.1326860841424 % done\n",
      "51.45631067961165 % done\n",
      "52.103559870550164 % done\n",
      "52.42718446601942 % done\n",
      "52.75080906148867 % done\n",
      "53.07443365695793 % done\n",
      "53.398058252427184 % done\n",
      "53.72168284789643 % done\n",
      "54.0453074433657 % done\n",
      "54.36893203883495 % done\n",
      "54.69255663430421 % done\n",
      "55.016181229773466 % done\n",
      "55.33980582524271 % done\n",
      "55.663430420711975 % done\n",
      "55.98705501618123 % done\n",
      "56.310679611650485 % done\n",
      "56.63430420711975 % done\n",
      "56.957928802588995 % done\n",
      "57.28155339805825 % done\n",
      "57.60517799352751 % done\n",
      "57.92880258899677 % done\n",
      "58.57605177993528 % done\n",
      "58.89967637540453 % done\n",
      "59.22330097087378 % done\n",
      "59.54692556634305 % done\n",
      "59.8705501618123 % done\n",
      "60.19417475728155 % done\n",
      "60.517799352750814 % done\n",
      "60.84142394822006 % done\n",
      "61.165048543689316 % done\n",
      "61.48867313915858 % done\n",
      "61.81229773462783 % done\n",
      "62.13592233009708 % done\n",
      "62.45954692556634 % done\n",
      "62.7831715210356 % done\n",
      "63.10679611650486 % done\n",
      "63.43042071197411 % done\n",
      "63.75404530744336 % done\n",
      "64.07766990291263 % done\n",
      "64.40129449838187 % done\n",
      "65.0485436893204 % done\n",
      "65.37216828478964 % done\n",
      "65.69579288025889 % done\n",
      "66.01941747572816 % done\n",
      "66.34304207119742 % done\n",
      "66.66666666666666 % done\n",
      "66.99029126213593 % done\n",
      "67.31391585760518 % done\n",
      "67.63754045307444 % done\n",
      "67.96116504854369 % done\n",
      "68.28478964401295 % done\n",
      "68.6084142394822 % done\n",
      "68.93203883495146 % done\n",
      "69.25566343042071 % done\n",
      "69.57928802588997 % done\n",
      "69.90291262135922 % done\n",
      "70.22653721682848 % done\n",
      "70.55016181229773 % done\n",
      "70.87378640776699 % done\n",
      "71.52103559870551 % done\n",
      "71.84466019417476 % done\n",
      "72.168284789644 % done\n",
      "72.49190938511327 % done\n",
      "72.81553398058253 % done\n",
      "73.13915857605178 % done\n",
      "73.46278317152104 % done\n",
      "73.7864077669903 % done\n",
      "74.11003236245955 % done\n",
      "74.4336569579288 % done\n",
      "74.75728155339806 % done\n",
      "75.08090614886731 % done\n",
      "75.40453074433657 % done\n",
      "75.72815533980582 % done\n",
      "76.05177993527508 % done\n",
      "76.37540453074433 % done\n",
      "76.69902912621359 % done\n",
      "77.02265372168284 % done\n",
      "77.34627831715211 % done\n",
      "77.99352750809061 % done\n",
      "78.31715210355988 % done\n",
      "78.64077669902912 % done\n",
      "78.96440129449837 % done\n",
      "79.28802588996764 % done\n",
      "79.6116504854369 % done\n",
      "79.93527508090615 % done\n",
      "80.2588996763754 % done\n",
      "80.58252427184466 % done\n",
      "80.90614886731392 % done\n",
      "81.22977346278317 % done\n",
      "81.55339805825243 % done\n",
      "81.87702265372168 % done\n",
      "82.20064724919094 % done\n",
      "82.52427184466019 % done\n",
      "82.84789644012946 % done\n",
      "83.1715210355987 % done\n",
      "83.49514563106796 % done\n",
      "83.81877022653723 % done\n",
      "84.46601941747572 % done\n",
      "84.78964401294499 % done\n",
      "85.11326860841424 % done\n",
      "85.43689320388349 % done\n",
      "85.76051779935275 % done\n",
      "86.08414239482201 % done\n",
      "86.40776699029125 % done\n",
      "86.73139158576052 % done\n",
      "87.05501618122977 % done\n",
      "87.37864077669903 % done\n",
      "87.70226537216828 % done\n",
      "88.02588996763754 % done\n",
      "88.3495145631068 % done\n",
      "88.67313915857605 % done\n",
      "88.9967637540453 % done\n",
      "89.32038834951457 % done\n",
      "89.64401294498381 % done\n",
      "89.96763754045307 % done\n",
      "90.29126213592234 % done\n",
      "90.93851132686083 % done\n",
      "91.2621359223301 % done\n",
      "91.58576051779936 % done\n",
      "91.9093851132686 % done\n",
      "92.23300970873787 % done\n",
      "92.55663430420712 % done\n",
      "92.88025889967638 % done\n",
      "93.20388349514563 % done\n",
      "93.52750809061489 % done\n",
      "93.85113268608414 % done\n",
      "94.1747572815534 % done\n",
      "94.49838187702265 % done\n",
      "94.8220064724919 % done\n",
      "95.14563106796116 % done\n",
      "95.46925566343042 % done\n",
      "95.79288025889967 % done\n",
      "96.11650485436894 % done\n",
      "96.44012944983818 % done\n",
      "96.76375404530745 % done\n",
      "97.41100323624595 % done\n",
      "97.73462783171522 % done\n",
      "98.05825242718447 % done\n",
      "98.38187702265373 % done\n",
      "98.70550161812298 % done\n",
      "99.02912621359224 % done\n",
      "99.35275080906149 % done\n",
      "99.67637540453075 % done\n"
     ]
    }
   ],
   "source": [
    "szdis= len(list_of_locations2)\n",
    "affinity_matrix = []\n",
    "for i in range(len(list_of_locations2)):\n",
    "    affinity_matrix.append([])\n",
    "for i in range(len(list_of_locations2)):\n",
    "    if i % 20:\n",
    "        print(i/len(list_of_locations2) * 100, '% done')\n",
    "    for j in range(0,len(list_of_locations2),100):\n",
    "        affinity_matrix[i].append(gmaps.distance_matrix(origins = list_of_locations2[i], destinations = list_of_locations2[j : min( j+100,len(list_of_locations2))] ))"
   ]
  },
  {
   "cell_type": "code",
   "execution_count": 21,
   "metadata": {},
   "outputs": [],
   "source": [
    "ch = \"\"\n",
    "if(choice == 1):\n",
    "    ch = \"duration\"\n",
    "else:\n",
    "    ch = \"distance\"\n",
    "sz = len(list_of_locations2)\n",
    "matrix = np.zeros((sz,sz))\n",
    "for i in range(len(list_of_locations2)):\n",
    "    cnt = 0\n",
    "    for j in range(0,len(affinity_matrix[i])):\n",
    "        if(j >= len(list_of_locations2)):\n",
    "            continue\n",
    "        for k in range(len(affinity_matrix[i][j]['rows'][0]['elements'])):\n",
    "            matrix[i][cnt] = -affinity_matrix[i][j]['rows'][0]['elements'][k][ch]['value']**2\n",
    "            cnt += 1\n",
    "        "
   ]
  },
  {
   "cell_type": "code",
   "execution_count": 23,
   "metadata": {},
   "outputs": [
    {
     "name": "stdout",
     "output_type": "stream",
     "text": [
      "0.0 % done.\n",
      "6.472491909385113 % done.\n",
      "12.944983818770226 % done.\n",
      "19.41747572815534 % done.\n",
      "25.88996763754045 % done.\n",
      "32.362459546925564 % done.\n",
      "38.83495145631068 % done.\n",
      "45.307443365695796 % done.\n",
      "51.7799352750809 % done.\n",
      "58.252427184466015 % done.\n",
      "64.72491909385113 % done.\n",
      "71.19741100323624 % done.\n",
      "77.66990291262135 % done.\n",
      "84.14239482200647 % done.\n",
      "90.61488673139159 % done.\n",
      "97.0873786407767 % done.\n",
      "(array([0, 1, 2, 3]), array([84, 85, 43, 97]))\n"
     ]
    }
   ],
   "source": [
    "colorHub = [0]*sz\n",
    "cnt = 0\n",
    "for i in range(sz):\n",
    "    if i%20 == 0:\n",
    "        print(i/sz * 100, '% done.')\n",
    "    save = [0]*4\n",
    "    ans = 0\n",
    "    save[0] = dist(point0,list_of_locations2[i], choice)\n",
    "    mn = save[0]\n",
    "    save[1] = dist(point1,list_of_locations2[i], choice)\n",
    "    save[2] = dist(point2,list_of_locations2[i], choice)\n",
    "    save[3] = dist(point3,list_of_locations2[i], choice)\n",
    "    for j in range(4):\n",
    "        if save[j]<mn:\n",
    "            mn = save[j]\n",
    "            ans = j\n",
    "    colorHub[i] = ans\n",
    "\n",
    "print(np.unique(colorHub, return_counts=True))"
   ]
  },
  {
   "cell_type": "code",
   "execution_count": 25,
   "metadata": {},
   "outputs": [
    {
     "name": "stdout",
     "output_type": "stream",
     "text": [
      "84\n",
      "85\n",
      "43\n",
      "97\n"
     ]
    }
   ],
   "source": [
    "gmap = gmplot.GoogleMapPlotter(lat,lng,12.75)\n",
    "\n",
    "for i in range(4):\n",
    "    print(len(list(np.array(dict_of_locations['longitude'])[np.where(np.array(colorHub)==i)])))\n",
    "    gmap.scatter( lngs=list(np.array(dict_of_locations['longitude'])[np.where(np.array(colorHub)==i)]), lats=list(np.array(dict_of_locations['latitude'])[np.where(np.array(colorHub)==i)]),c = colors[i], alpha=0.4)\n",
    "gmap.marker(point0[0],point0[1],c = 'magenta',)\n",
    "gmap.marker(point1[0],point1[1],c = 'cyan')\n",
    "gmap.marker(point2[0],point2[1],c = 'brown')\n",
    "gmap.marker(point3[0],point3[1],c = 'white')\n",
    "gmap.draw(\"./maps/map_hubs_distribution_\"+str(choice)+'.html')"
   ]
  },
  {
   "cell_type": "markdown",
   "metadata": {},
   "source": [
    "<p>The delivery points are now partitioned into four clusters according to a distance metrics from the points to the hubs. Next we need to distribute the delivery points on a single hub into several delivery persons.<p> "
   ]
  },
  {
   "cell_type": "code",
   "execution_count": 27,
   "metadata": {},
   "outputs": [
    {
     "name": "stdout",
     "output_type": "stream",
     "text": [
      "[[97, 98, 99, 100, 101, 102, 103, 104, 105, 106, 107, 108, 109, 110, 111, 112, 117, 118, 119, 120, 121, 122, 123, 124, 125, 126, 127, 131, 154, 155, 156, 157, 158, 159, 160, 161, 162, 163, 164, 165, 166, 167, 168, 169, 193, 194, 241, 242, 243, 244, 245, 246, 247, 248, 249, 250, 251, 252, 253, 254, 255, 256, 257, 258, 259, 260, 261, 262, 263, 264, 265, 266, 267, 268, 269, 270, 271, 272, 273, 274, 275, 276, 277, 278], [13, 14, 15, 16, 17, 18, 19, 20, 21, 22, 23, 24, 25, 26, 27, 41, 42, 43, 44, 45, 46, 47, 48, 49, 50, 51, 52, 53, 54, 55, 56, 57, 58, 59, 61, 66, 116, 128, 129, 130, 148, 149, 150, 151, 152, 153, 170, 171, 172, 173, 174, 175, 176, 177, 178, 179, 180, 181, 182, 183, 184, 185, 186, 187, 188, 189, 190, 191, 192, 195, 196, 197, 198, 199, 200, 202, 203, 205, 206, 207, 212, 216, 218, 219, 220], [12, 40, 76, 77, 78, 79, 80, 81, 82, 83, 84, 85, 86, 87, 88, 89, 90, 91, 92, 93, 94, 95, 133, 135, 136, 137, 138, 139, 140, 143, 144, 146, 147, 201, 204, 208, 209, 210, 211, 213, 214, 215, 217], [0, 1, 2, 3, 4, 5, 6, 7, 8, 9, 10, 11, 28, 29, 30, 31, 32, 33, 34, 35, 36, 37, 38, 39, 60, 62, 63, 64, 65, 67, 68, 69, 70, 71, 72, 73, 74, 75, 96, 113, 114, 115, 132, 134, 141, 142, 145, 221, 222, 223, 224, 225, 226, 227, 228, 229, 230, 231, 232, 233, 234, 235, 236, 237, 238, 239, 240, 279, 280, 281, 282, 283, 284, 285, 286, 287, 288, 289, 290, 291, 292, 293, 294, 295, 296, 297, 298, 299, 300, 301, 302, 303, 304, 305, 306, 307, 308]]\n"
     ]
    }
   ],
   "source": [
    "zoneDistribution = [[], [], [], []]\n",
    "zoneDistributionDict = [{'lat':[], 'lng':[]},{'lat':[], 'lng':[]},{'lat':[], 'lng':[]},{'lat':[], 'lng':[]}]\n",
    "\n",
    "for i in range(len(colorHub)):\n",
    "    zoneDistribution[colorHub[i]].append(i)\n",
    "    zoneDistributionDict[colorHub[i]]['lat'].append(list_of_locations2[i][0])\n",
    "    zoneDistributionDict[colorHub[i]]['lng'].append(list_of_locations2[i][1])\n",
    "\n",
    "            \n",
    "    \n",
    "print(zoneDistribution)\n"
   ]
  },
  {
   "cell_type": "code",
   "execution_count": 44,
   "metadata": {},
   "outputs": [
    {
     "name": "stdout",
     "output_type": "stream",
     "text": [
      "Input hub number: \n",
      "3\n"
     ]
    }
   ],
   "source": [
    "print('Input hub number: ')\n",
    "zones = int(input())"
   ]
  },
  {
   "cell_type": "code",
   "execution_count": 45,
   "metadata": {},
   "outputs": [],
   "source": [
    "sz = len(zoneDistribution[zones])\n",
    "newMat = np.zeros((sz,sz))\n",
    "rowCnt = 0\n",
    "for i in range(len(zoneDistribution[zones])):\n",
    "    columnCnt = 0\n",
    "    for j in range(len(zoneDistribution[zones])):\n",
    "        newMat[rowCnt][columnCnt] = matrix[zoneDistribution[zones][i]][zoneDistribution[zones][j]]\n",
    "        columnCnt += 1\n",
    "    rowCnt += 1\n"
   ]
  },
  {
   "cell_type": "code",
   "execution_count": 46,
   "metadata": {},
   "outputs": [
    {
     "name": "stdout",
     "output_type": "stream",
     "text": [
      "[[97, 98, 99, 100, 101, 102, 103, 104, 105, 106, 107, 108, 109, 110, 111, 112, 117, 118, 119, 120, 121, 122, 123, 124, 125, 126, 127, 131, 154, 155, 156, 157, 158, 159, 160, 161, 162, 163, 164, 165, 166, 167, 168, 169, 193, 194, 241, 242, 243, 244, 245, 246, 247, 248, 249, 250, 251, 252, 253, 254, 255, 256, 257, 258, 259, 260, 261, 262, 263, 264, 265, 266, 267, 268, 269, 270, 271, 272, 273, 274, 275, 276, 277, 278], [13, 14, 15, 16, 17, 18, 19, 20, 21, 22, 23, 24, 25, 26, 27, 41, 42, 43, 44, 45, 46, 47, 48, 49, 50, 51, 52, 53, 54, 55, 56, 57, 58, 59, 61, 66, 116, 128, 129, 130, 148, 149, 150, 151, 152, 153, 170, 171, 172, 173, 174, 175, 176, 177, 178, 179, 180, 181, 182, 183, 184, 185, 186, 187, 188, 189, 190, 191, 192, 195, 196, 197, 198, 199, 200, 202, 203, 205, 206, 207, 212, 216, 218, 219, 220], [12, 40, 76, 77, 78, 79, 80, 81, 82, 83, 84, 85, 86, 87, 88, 89, 90, 91, 92, 93, 94, 95, 133, 135, 136, 137, 138, 139, 140, 143, 144, 146, 147, 201, 204, 208, 209, 210, 211, 213, 214, 215, 217], [0, 1, 2, 3, 4, 5, 6, 7, 8, 9, 10, 11, 28, 29, 30, 31, 32, 33, 34, 35, 36, 37, 38, 39, 60, 62, 63, 64, 65, 67, 68, 69, 70, 71, 72, 73, 74, 75, 96, 113, 114, 115, 132, 134, 141, 142, 145, 221, 222, 223, 224, 225, 226, 227, 228, 229, 230, 231, 232, 233, 234, 235, 236, 237, 238, 239, 240, 279, 280, 281, 282, 283, 284, 285, 286, 287, 288, 289, 290, 291, 292, 293, 294, 295, 296, 297, 298, 299, 300, 301, 302, 303, 304, 305, 306, 307, 308]]\n"
     ]
    }
   ],
   "source": [
    "print(zoneDistribution)"
   ]
  },
  {
   "cell_type": "code",
   "execution_count": 47,
   "metadata": {},
   "outputs": [
    {
     "name": "stdout",
     "output_type": "stream",
     "text": [
      "[[ 0.00000000e+00 -2.56137210e+07 -2.44827040e+07 ... -5.10367360e+07\n",
      "  -5.10367360e+07 -6.18110440e+07]\n",
      " [-7.99772490e+07  0.00000000e+00 -8.83600000e+03 ... -1.67857936e+08\n",
      "  -1.67857936e+08 -1.64506276e+08]\n",
      " [-7.79512410e+07 -8.83600000e+03  0.00000000e+00 ... -1.64942649e+08\n",
      "  -1.64942649e+08 -1.61594944e+08]\n",
      " ...\n",
      " [-4.65533290e+07 -6.61944960e+07 -6.43524840e+07 ...  0.00000000e+00\n",
      "   0.00000000e+00 -2.09960100e+06]\n",
      " [-4.65533290e+07 -6.61944960e+07 -6.43524840e+07 ...  0.00000000e+00\n",
      "   0.00000000e+00 -2.09960100e+06]\n",
      " [-4.85251560e+07 -6.85418410e+07 -6.66672250e+07 ... -2.09960100e+06\n",
      "  -2.09960100e+06  0.00000000e+00]]\n",
      "Converged after 96 iterations.\n",
      "(array([0, 1, 2]), array([20, 44, 33]))\n"
     ]
    }
   ],
   "source": [
    "# print(newMat)\n",
    "# newMat /= ((-np.min(newMat)))\n",
    "print(newMat)\n",
    "af = AffinityPropagation( affinity='precomputed', preference =np.min(newMat), verbose = True, convergence_iter= 50).fit(newMat)\n",
    "labels = af.labels_\n",
    "print(np.unique(labels, return_counts=True))"
   ]
  },
  {
   "cell_type": "code",
   "execution_count": null,
   "metadata": {},
   "outputs": [],
   "source": []
  },
  {
   "cell_type": "code",
   "execution_count": 48,
   "metadata": {},
   "outputs": [],
   "source": [
    "gmap = gmplot.GoogleMapPlotter(lat,lng,12.75)\n",
    "\n",
    "for i in range(np.max(labels)+1):\n",
    "    #print(len(list(np.array(zoneDistributionDict[zones]['longitude'])[np.where(np.array(labels)==i)])))\n",
    "    gmap.scatter( lngs=list(np.array(zoneDistributionDict[zones]['lng'])[np.where(np.array(labels)==i)]), lats=list(np.array(zoneDistributionDict[zones]['lat'])[np.where(np.array(labels)==i)]),c = colors[i], alpha=0.4)\n",
    "gmap.marker(point0[0],point0[1],c = 'magenta',)\n",
    "gmap.marker(point1[0],point1[1],c = 'cyan')\n",
    "gmap.marker(point2[0],point2[1],c = 'brown')\n",
    "gmap.marker(point3[0],point3[1],c = 'white')\n",
    "gmap.draw('./maps/mapHubRegionDist_' + str(zones)+'_' +str(choice)+ '.html')"
   ]
  },
  {
   "cell_type": "markdown",
   "metadata": {
    "collapsed": true
   },
   "source": [
    "<h3> Output </h3>\n",
    "The outputs of the work are stored in the '/maps' folder.\n",
    "<h3> Remaining Works </h3>\n",
    "<ul>\n",
    "<li>We have tried k-means, spectral and affinity propagation models for clustering the delivery points. There are several other models like Gaussian mixture, DBSCAN, JarvisPatrick, Birch and so on. We have yet to test which one is actually best in our country's context, where we have to deal with heavy traffic conditions and a very dense graph.</li>\n",
    "<li>We have not yet integrated the part where the delivery persons collect the products from the merchants.</li>\n",
    "<li>We have not yet implemented the interhub communication.</li>\n",
    "</ul>"
   ]
  },
  {
   "cell_type": "markdown",
   "metadata": {},
   "source": [
    "<h3>Thank you</h3>\n",
    "<p>In this project, \n",
    "<list>\n",
    "    <li>I, Muntasir Wahed, have dealt with the concept and modeling the solution.</li> \n",
    "    <li>Nahian Ashraf has dealt with data visualization and helped with the implementation.</li> \n",
    "    <li>Abid Naziri Sami has collected all data.</li>\n",
    "</list>    \n",
    "</p>"
   ]
  },
  {
   "cell_type": "code",
   "execution_count": 49,
   "metadata": {},
   "outputs": [
    {
     "data": {
      "text/html": [
       "<iframe src=\"https://giphy.com/embed/wEgs1cd7vDTt6\" width=\"480\" height=\"198\" frameBorder=\"0\" class=\"giphy-embed\" allowFullScreen></iframe><p><a href=\"https://giphy.com/gifs/iron-man-wEgs1cd7vDTt6\">via GIPHY</a></p>"
      ],
      "text/plain": [
       "<IPython.core.display.HTML object>"
      ]
     },
     "metadata": {},
     "output_type": "display_data"
    }
   ],
   "source": []
  },
  {
   "cell_type": "code",
   "execution_count": null,
   "metadata": {},
   "outputs": [],
   "source": []
  },
  {
   "cell_type": "code",
   "execution_count": null,
   "metadata": {},
   "outputs": [],
   "source": []
  },
  {
   "cell_type": "code",
   "execution_count": null,
   "metadata": {},
   "outputs": [],
   "source": []
  },
  {
   "cell_type": "code",
   "execution_count": null,
   "metadata": {},
   "outputs": [],
   "source": []
  },
  {
   "cell_type": "code",
   "execution_count": null,
   "metadata": {},
   "outputs": [],
   "source": []
  },
  {
   "cell_type": "markdown",
   "metadata": {},
   "source": [
    "## Distance Function using geodesic\n",
    "Run this only when necessary"
   ]
  },
  {
   "cell_type": "code",
   "execution_count": 210,
   "metadata": {},
   "outputs": [],
   "source": [
    "def dest(PointA, PointB):\n",
    "    A = (PointA[0], PointA[1])\n",
    "    B = (PointB[0], PointB[1])\n",
    "    return geodesic(A, B).miles"
   ]
  },
  {
   "cell_type": "code",
   "execution_count": null,
   "metadata": {},
   "outputs": [],
   "source": [
    "from IPython.core.display import display, HTML\n",
    "display(HTML(\"\"\"<iframe src=\"https://giphy.com/embed/wEgs1cd7vDTt6\" width=\"480\" height=\"198\" frameBorder=\"0\" class=\"giphy-embed\" allowFullScreen></iframe><p><a href=\"https://giphy.com/gifs/iron-man-wEgs1cd7vDTt6\">via GIPHY</a></p>\"\"\"))\n"
   ]
  }
 ],
 "metadata": {
  "kernelspec": {
   "display_name": "Python 3",
   "language": "python",
   "name": "python3"
  },
  "language_info": {
   "codemirror_mode": {
    "name": "ipython",
    "version": 3
   },
   "file_extension": ".py",
   "mimetype": "text/x-python",
   "name": "python",
   "nbconvert_exporter": "python",
   "pygments_lexer": "ipython3",
   "version": "3.6.6"
  }
 },
 "nbformat": 4,
 "nbformat_minor": 2
}
